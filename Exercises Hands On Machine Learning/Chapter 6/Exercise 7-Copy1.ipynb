{
 "cells": [
  {
   "cell_type": "code",
   "execution_count": 2,
   "metadata": {},
   "outputs": [
    {
     "name": "stdout",
     "output_type": "stream",
     "text": [
      "0.7965\n"
     ]
    }
   ],
   "source": [
    "import numpy as np\n",
    "from sklearn.datasets import make_moons\n",
    "from sklearn.model_selection import train_test_split\n",
    "from sklearn.tree import DecisionTreeClassifier\n",
    "from sklearn.metrics import accuracy_score\n",
    "# make our fake dataset\n",
    "data = make_moons(n_samples=10000, noise=0.4)\n",
    "X = data[0]\n",
    "y = data[1]\n",
    "\n",
    "# split our data into training and test sets\n",
    "X_train, X_test, y_train, y_test = train_test_split(X, y, test_size = .2, random_state = 42)\n",
    "# create the model\n",
    "tree = DecisionTreeClassifier(random_state = 42)\n",
    "# fit the training data\n",
    "tree.fit(X_train, y_train)\n",
    "y_pred = tree.predict(X_test)\n",
    "score = accuracy_score(y_test, y_pred)\n",
    "print(score)"
   ]
  },
  {
   "cell_type": "code",
   "execution_count": 3,
   "metadata": {},
   "outputs": [
    {
     "data": {
      "text/plain": [
       "DecisionTreeClassifier(max_depth=10, max_features=1, min_samples_split=30,\n",
       "                       random_state=42)"
      ]
     },
     "execution_count": 3,
     "metadata": {},
     "output_type": "execute_result"
    }
   ],
   "source": [
    "# using grid search cv to find the best hyperparameters for our decision tree model\n",
    "from sklearn.model_selection import GridSearchCV\n",
    "import warnings\n",
    "#warnings are annoying when dealing with gridsearch lol\n",
    "warnings.filterwarnings(\"ignore\")\n",
    "\n",
    "grid_params = [{\"max_depth\": [1,5,10,15,20,25,30,35,40],\n",
    "                \"min_samples_split\":[1,5,10,15,20,25,30,35,40],\n",
    "                \"max_features\":[1,5,10,15,20,25,30,35,40]}]\n",
    "grid_search = GridSearchCV(tree, grid_params, cv=5,\n",
    "                           scoring=\"accuracy\",\n",
    "                           return_train_score=True)\n",
    "grid_search.fit(X_train, y_train)\n",
    "\n",
    "grid_search.best_estimator_"
   ]
  },
  {
   "cell_type": "code",
   "execution_count": 7,
   "metadata": {},
   "outputs": [
    {
     "name": "stdout",
     "output_type": "stream",
     "text": [
      "0.852\n"
     ]
    }
   ],
   "source": [
    "# time to test our new tree with these new hyperparameters\n",
    "tree = DecisionTreeClassifier(max_depth=10, max_features=1, min_samples_split=30, random_state=42)\n",
    "# fit the training data again\n",
    "tree.fit(X_train, y_train)\n",
    "y_pred = tree.predict(X_test)\n",
    "score = accuracy_score(y_test, y_pred)\n",
    "print(score)"
   ]
  }
 ],
 "metadata": {
  "kernelspec": {
   "display_name": "Python 3",
   "language": "python",
   "name": "python3"
  },
  "language_info": {
   "codemirror_mode": {
    "name": "ipython",
    "version": 3
   },
   "file_extension": ".py",
   "mimetype": "text/x-python",
   "name": "python",
   "nbconvert_exporter": "python",
   "pygments_lexer": "ipython3",
   "version": "3.8.3"
  }
 },
 "nbformat": 4,
 "nbformat_minor": 4
}
