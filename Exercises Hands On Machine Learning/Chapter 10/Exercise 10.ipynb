{
 "cells": [
  {
   "cell_type": "markdown",
   "metadata": {},
   "source": [
    "# Exercise 10\n",
    "Train a deep MLP on the MNIST dataset (you can load it using keras.datasets.mnist.load_data(). See if you can get over 98% precision. Try searching for the optimal learning rate by using the approach presented in this chapter (i.e., by growing the learning rate exponentially, plotting the loss, and finding the point where the loss shoots up). Try adding all the bells and whistles—save checkpoints, use early stopping, and plot learning curves using TensorBoard."
   ]
  },
  {
   "cell_type": "code",
   "execution_count": 2,
   "metadata": {},
   "outputs": [],
   "source": [
    "import tensorflow as tf\n",
    "from tensorflow import keras\n",
    "from tensorflow.keras import layers\n",
    "from sklearn.model_selection import train_test_split\n",
    "import numpy as np\n",
    "import pandas as pd\n",
    "import matplotlib as mpl\n",
    "import matplotlib.pyplot as plt\n",
    "\n",
    "# load the data into our training and test sets\n",
    "(X_train_full, y_train_full), (X_test, y_test) = keras.datasets.mnist.load_data()\n",
    "# images are 28 x 28\n",
    "\n",
    "#split our data\n",
    "X_train, X_valid, y_train, y_valid = train_test_split(X_train_full/255., y_train_full, test_size=10000, random_state=42)\n",
    "X_test = X_test / 255."
   ]
  },
  {
   "cell_type": "code",
   "execution_count": 2,
   "metadata": {},
   "outputs": [
    {
     "data": {
      "text/plain": [
       "array([8, 5, 1, ..., 0, 0, 4], dtype=uint8)"
      ]
     },
     "execution_count": 2,
     "metadata": {},
     "output_type": "execute_result"
    }
   ],
   "source": [
    "y_train"
   ]
  },
  {
   "cell_type": "code",
   "execution_count": 3,
   "metadata": {},
   "outputs": [],
   "source": [
    "# trying to find the optimal learning rate\n",
    "K = keras.backend\n",
    "\n",
    "# create a class for the exponential learning rate\n",
    "class ExponentialLearningRate(keras.callbacks.Callback):\n",
    "    def __init__(self, factor):\n",
    "        self.factor = factor\n",
    "        self.rates = []\n",
    "        self.losses = []\n",
    "    def on_batch_end(self, batch, logs):\n",
    "        self.rates.append(K.get_value(self.model.optimizer.lr))\n",
    "        self.losses.append(logs[\"loss\"])\n",
    "        K.set_value(self.model.optimizer.lr, self.model.optimizer.lr * self.factor)\n",
    "# end of class definition and implementatons"
   ]
  },
  {
   "cell_type": "code",
   "execution_count": 4,
   "metadata": {},
   "outputs": [],
   "source": [
    "K.clear_session()\n",
    "np.random.seed(42)\n",
    "tf.random.set_seed(42)"
   ]
  },
  {
   "cell_type": "code",
   "execution_count": 17,
   "metadata": {},
   "outputs": [],
   "source": [
    "model = keras.models.Sequential()\n",
    "# our input layer\n",
    "input_layer = keras.layers.Flatten(input_shape=[28, 28])\n",
    "# create a shallow 2 hidden layer network\n",
    "layer1 = keras.layers.Dense(300, activation=\"relu\")\n",
    "# layer 2\n",
    "layer2 = keras.layers.Dense(100, activation=\"relu\")\n",
    "# output layer with softmax activation function\n",
    "main_output = keras.layers.Dense(10, activation=\"softmax\")\n",
    "\n",
    "# add our layers to our model\n",
    "model.add(input_layer)\n",
    "model.add(layer1)\n",
    "model.add(layer2)\n",
    "model.add(main_output)\n",
    "\n",
    "# compile our model\n",
    "model.compile(loss=\"sparse_categorical_crossentropy\",\n",
    "              optimizer=keras.optimizers.SGD(lr=1e-3), # manually set the lr\n",
    "              metrics=[\"accuracy\"])\n",
    "# create exponential learning rate object\n",
    "expon_lr = ExponentialLearningRate(factor=1.005)"
   ]
  },
  {
   "cell_type": "code",
   "execution_count": 6,
   "metadata": {},
   "outputs": [
    {
     "name": "stdout",
     "output_type": "stream",
     "text": [
      "Model: \"sequential\"\n",
      "_________________________________________________________________\n",
      "Layer (type)                 Output Shape              Param #   \n",
      "=================================================================\n",
      "flatten (Flatten)            (None, 784)               0         \n",
      "_________________________________________________________________\n",
      "dense (Dense)                (None, 300)               235500    \n",
      "_________________________________________________________________\n",
      "dense_1 (Dense)              (None, 300)               90300     \n",
      "_________________________________________________________________\n",
      "dense_2 (Dense)              (None, 10)                3010      \n",
      "=================================================================\n",
      "Total params: 328,810\n",
      "Trainable params: 328,810\n",
      "Non-trainable params: 0\n",
      "_________________________________________________________________\n"
     ]
    }
   ],
   "source": [
    "model.summary()"
   ]
  },
  {
   "cell_type": "code",
   "execution_count": 7,
   "metadata": {
    "scrolled": false
   },
   "outputs": [
    {
     "name": "stdout",
     "output_type": "stream",
     "text": [
      "Train on 50000 samples, validate on 10000 samples\n",
      "50000/50000 [==============================] - 4s 89us/sample - loss: nan - accuracy: 0.6602 - val_loss: nan - val_accuracy: 0.0984\n"
     ]
    }
   ],
   "source": [
    "# Fit the model\n",
    "history = model.fit(X_train, y_train, epochs=1, \n",
    "                    validation_data=(X_valid, y_valid),\n",
    "                   callbacks=[expon_lr])"
   ]
  },
  {
   "cell_type": "code",
   "execution_count": 12,
   "metadata": {},
   "outputs": [
    {
     "data": {
      "text/plain": [
       "<Figure size 720x720 with 0 Axes>"
      ]
     },
     "execution_count": 12,
     "metadata": {},
     "output_type": "execute_result"
    },
    {
     "data": {
      "image/png": "[encoded data removed]",
      "text/plain": [
       "<Figure size 432x288 with 1 Axes>"
      ]
     },
     "metadata": {
      "needs_background": "light"
     },
     "output_type": "display_data"
    },
    {
     "data": {
      "text/plain": [
       "<Figure size 720x720 with 0 Axes>"
      ]
     },
     "metadata": {},
     "output_type": "display_data"
    }
   ],
   "source": [
    "plt.plot(expon_lr.rates, expon_lr.losses)\n",
    "# gca() means get current axes\n",
    "plt.gca().set_xscale('log')\n",
    "plt.hlines(min(expon_lr.losses), min(expon_lr.rates), max(expon_lr.rates))\n",
    "plt.axis([min(expon_lr.rates), max(expon_lr.rates), 0, expon_lr.losses[0]])\n",
    "plt.xlabel(\"Learning rate\")\n",
    "plt.ylabel(\"Loss\")"
   ]
  },
  {
   "cell_type": "code",
   "execution_count": 9,
   "metadata": {},
   "outputs": [
    {
     "data": {
      "text/plain": [
       "{'batch_size': 32,\n",
       " 'epochs': 1,\n",
       " 'steps': 1563,\n",
       " 'samples': 50000,\n",
       " 'verbose': 0,\n",
       " 'do_validation': True,\n",
       " 'metrics': ['loss', 'accuracy', 'val_loss', 'val_accuracy']}"
      ]
     },
     "execution_count": 9,
     "metadata": {},
     "output_type": "execute_result"
    }
   ],
   "source": [
    "# playing with the history object\n",
    "history.params"
   ]
  },
  {
   "cell_type": "code",
   "execution_count": 18,
   "metadata": {},
   "outputs": [],
   "source": [
    "# reset model training\n",
    "keras.backend.clear_session()\n",
    "np.random.seed(42)\n",
    "tf.random.set_seed(42)"
   ]
  },
  {
   "cell_type": "code",
   "execution_count": 19,
   "metadata": {},
   "outputs": [],
   "source": [
    "# recreate our model with our new learning rate\n",
    "model = keras.models.Sequential([\n",
    "    keras.layers.Flatten(input_shape=[28, 28]),\n",
    "    keras.layers.Dense(300, activation=\"relu\"),\n",
    "    keras.layers.Dense(100, activation=\"relu\"),\n",
    "    keras.layers.Dense(10, activation=\"softmax\")\n",
    "])\n",
    "\n",
    "model.compile(loss=\"sparse_categorical_crossentropy\",\n",
    "              optimizer=keras.optimizers.SGD(lr=2e-1),\n",
    "              metrics=[\"accuracy\"])"
   ]
  },
  {
   "cell_type": "code",
   "execution_count": 20,
   "metadata": {},
   "outputs": [
    {
     "data": {
      "text/plain": [
       "'.\\\\my_mnist_logs\\\\run_001'"
      ]
     },
     "execution_count": 20,
     "metadata": {},
     "output_type": "execute_result"
    }
   ],
   "source": [
    "import os\n",
    "\n",
    "run_index = 1 # increment this at every run\n",
    "run_logdir = os.path.join(os.curdir, \"my_mnist_logs\", \"run_{:03d}\".format(run_index)) # save to current directory\n",
    "run_logdir"
   ]
  },
  {
   "cell_type": "code",
   "execution_count": 21,
   "metadata": {},
   "outputs": [
    {
     "name": "stdout",
     "output_type": "stream",
     "text": [
      "Train on 50000 samples, validate on 10000 samples\n",
      "Epoch 1/100\n",
      "50000/50000 [==============================] - 4s 82us/sample - loss: 0.2439 - accuracy: 0.9255 - val_loss: 0.1258 - val_accuracy: 0.9622\n",
      "Epoch 2/100\n",
      "50000/50000 [==============================] - 4s 71us/sample - loss: 0.0986 - accuracy: 0.9697 - val_loss: 0.0945 - val_accuracy: 0.9719\n",
      "Epoch 3/100\n",
      "50000/50000 [==============================] - 4s 72us/sample - loss: 0.0657 - accuracy: 0.9788 - val_loss: 0.0811 - val_accuracy: 0.9747\n",
      "Epoch 4/100\n",
      "50000/50000 [==============================] - 4s 73us/sample - loss: 0.0481 - accuracy: 0.9838 - val_loss: 0.0754 - val_accuracy: 0.9786\n",
      "Epoch 5/100\n",
      "50000/50000 [==============================] - 4s 71us/sample - loss: 0.0334 - accuracy: 0.9895 - val_loss: 0.0815 - val_accuracy: 0.9781\n",
      "Epoch 6/100\n",
      "50000/50000 [==============================] - 4s 70us/sample - loss: 0.0271 - accuracy: 0.9917 - val_loss: 0.1496 - val_accuracy: 0.9606\n",
      "Epoch 7/100\n",
      "50000/50000 [==============================] - 4s 72us/sample - loss: 0.0189 - accuracy: 0.9941 - val_loss: 0.0823 - val_accuracy: 0.9783\n",
      "Epoch 8/100\n",
      "50000/50000 [==============================] - 4s 70us/sample - loss: 0.0148 - accuracy: 0.9954 - val_loss: 0.0736 - val_accuracy: 0.9815\n",
      "Epoch 9/100\n",
      "50000/50000 [==============================] - 3s 69us/sample - loss: 0.0085 - accuracy: 0.9974 - val_loss: 0.0909 - val_accuracy: 0.9778\n",
      "Epoch 10/100\n",
      "50000/50000 [==============================] - 4s 71us/sample - loss: 0.0059 - accuracy: 0.9984 - val_loss: 0.0788 - val_accuracy: 0.9814\n",
      "Epoch 11/100\n",
      "50000/50000 [==============================] - 3s 69us/sample - loss: 0.0034 - accuracy: 0.9995 - val_loss: 0.0893 - val_accuracy: 0.9811\n",
      "Epoch 12/100\n",
      "50000/50000 [==============================] - 4s 70us/sample - loss: 0.0023 - accuracy: 0.9993 - val_loss: 0.0780 - val_accuracy: 0.9834\n",
      "Epoch 13/100\n",
      "50000/50000 [==============================] - 3s 69us/sample - loss: 8.0833e-04 - accuracy: 0.9999 - val_loss: 0.0742 - val_accuracy: 0.9858\n",
      "Epoch 14/100\n",
      "50000/50000 [==============================] - 3s 69us/sample - loss: 4.3217e-04 - accuracy: 1.0000 - val_loss: 0.0755 - val_accuracy: 0.9859\n",
      "Epoch 15/100\n",
      "50000/50000 [==============================] - 3s 70us/sample - loss: 2.9084e-04 - accuracy: 1.0000 - val_loss: 0.0762 - val_accuracy: 0.9865\n",
      "Epoch 16/100\n",
      "50000/50000 [==============================] - 4s 70us/sample - loss: 2.4353e-04 - accuracy: 1.0000 - val_loss: 0.0776 - val_accuracy: 0.9862\n",
      "Epoch 17/100\n",
      "50000/50000 [==============================] - 4s 70us/sample - loss: 2.0902e-04 - accuracy: 1.0000 - val_loss: 0.0777 - val_accuracy: 0.9863\n",
      "Epoch 18/100\n",
      "50000/50000 [==============================] - 4s 71us/sample - loss: 1.9058e-04 - accuracy: 1.0000 - val_loss: 0.0784 - val_accuracy: 0.9862\n",
      "Epoch 19/100\n",
      "50000/50000 [==============================] - 4s 71us/sample - loss: 1.7191e-04 - accuracy: 1.0000 - val_loss: 0.0795 - val_accuracy: 0.9861\n",
      "Epoch 20/100\n",
      "50000/50000 [==============================] - 4s 70us/sample - loss: 1.5871e-04 - accuracy: 1.0000 - val_loss: 0.0796 - val_accuracy: 0.9860\n",
      "Epoch 21/100\n",
      "50000/50000 [==============================] - 3s 70us/sample - loss: 1.4584e-04 - accuracy: 1.0000 - val_loss: 0.0803 - val_accuracy: 0.9859\n",
      "Epoch 22/100\n",
      "50000/50000 [==============================] - 3s 70us/sample - loss: 1.3612e-04 - accuracy: 1.0000 - val_loss: 0.0813 - val_accuracy: 0.9859\n",
      "Epoch 23/100\n",
      "50000/50000 [==============================] - 4s 70us/sample - loss: 1.2810e-04 - accuracy: 1.0000 - val_loss: 0.0816 - val_accuracy: 0.9858\n",
      "Epoch 24/100\n",
      "50000/50000 [==============================] - 4s 71us/sample - loss: 1.2091e-04 - accuracy: 1.0000 - val_loss: 0.0819 - val_accuracy: 0.9859\n",
      "Epoch 25/100\n",
      "50000/50000 [==============================] - 3s 70us/sample - loss: 1.1473e-04 - accuracy: 1.0000 - val_loss: 0.0819 - val_accuracy: 0.9857\n",
      "Epoch 26/100\n",
      "50000/50000 [==============================] - 4s 70us/sample - loss: 1.0860e-04 - accuracy: 1.0000 - val_loss: 0.0823 - val_accuracy: 0.9858\n",
      "Epoch 27/100\n",
      "50000/50000 [==============================] - 3s 70us/sample - loss: 1.0302e-04 - accuracy: 1.0000 - val_loss: 0.0829 - val_accuracy: 0.9855\n",
      "Epoch 28/100\n",
      "50000/50000 [==============================] - 3s 70us/sample - loss: 9.8533e-05 - accuracy: 1.0000 - val_loss: 0.0833 - val_accuracy: 0.9860\n"
     ]
    }
   ],
   "source": [
    "# implementing early stopping, checkpoint, and tensorboard callbacks\n",
    "early_stopping_callback = keras.callbacks.EarlyStopping(patience=20)\n",
    "checkpoint_callback = keras.callbacks.ModelCheckpoint(\"my_mnists_model.h5\",\n",
    "                                                     save_best_only=True)\n",
    "tensorboard_cb = keras.callbacks.TensorBoard(run_logdir)\n",
    "\n",
    "history = model.fit(X_train, y_train, epochs = 100, \n",
    "                   validation_data = (X_valid,y_valid),\n",
    "                   callbacks=[early_stopping_callback, checkpoint_callback,\n",
    "                             tensorboard_cb])"
   ]
  },
  {
   "cell_type": "code",
   "execution_count": 4,
   "metadata": {},
   "outputs": [
    {
     "name": "stdout",
     "output_type": "stream",
     "text": [
      "10000/10000 [==============================] - 1s 50us/sample - loss: 0.0753 - accuracy: 0.9807\n"
     ]
    },
    {
     "data": {
      "text/plain": [
       "[0.07526118362457274, 0.9807]"
      ]
     },
     "execution_count": 4,
     "metadata": {},
     "output_type": "execute_result"
    }
   ],
   "source": [
    "model = keras.models.load_model(\"my_mnists_model.h5\") # rollback to best model\n",
    "model.evaluate(X_test, y_test)"
   ]
  },
  {
   "cell_type": "code",
   "execution_count": 5,
   "metadata": {},
   "outputs": [
    {
     "name": "stderr",
     "output_type": "stream",
     "text": [
      "UsageError: Line magic function `%tensorboard` not found.\n"
     ]
    }
   ],
   "source": [
    "%tensorboard --logdir=./my_mnist_logs --port=6006"
   ]
  },
  {
   "cell_type": "markdown",
   "metadata": {},
   "source": [
    "# EXTRA STUFF"
   ]
  },
  {
   "cell_type": "code",
   "execution_count": 10,
   "metadata": {},
   "outputs": [
    {
     "data": {
      "image/png": "[encoded data removed]",
      "text/plain": [
       "<Figure size 1080x648 with 1 Axes>"
      ]
     },
     "metadata": {
      "needs_background": "light"
     },
     "output_type": "display_data"
    }
   ],
   "source": [
    "# plot out all of the keys\n",
    "\n",
    "pd.DataFrame(history.history).plot(figsize=(15,9))\n",
    "plt.grid()\n",
    "plt.gca().set_ylim(0, 1)\n",
    "plt.xlabel(\"Epochs\",fontsize=14)\n",
    "plt.ylabel(\"Accuracy\",fontsize=14)\n",
    "plt.title(\"Plot of history.history\", fontsize=16)\n",
    "plt.show()"
   ]
  }
 ],
 "metadata": {
  "kernelspec": {
   "display_name": "Python 3",
   "language": "python",
   "name": "python3"
  },
  "language_info": {
   "codemirror_mode": {
    "name": "ipython",
    "version": 3
   },
   "file_extension": ".py",
   "mimetype": "text/x-python",
   "name": "python",
   "nbconvert_exporter": "python",
   "pygments_lexer": "ipython3",
   "version": "3.7.9"
  }
 },
 "nbformat": 4,
 "nbformat_minor": 4
}
