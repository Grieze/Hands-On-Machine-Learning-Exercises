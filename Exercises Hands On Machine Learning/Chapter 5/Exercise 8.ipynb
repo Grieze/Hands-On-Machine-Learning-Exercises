{
 "cells": [
  {
   "cell_type": "markdown",
   "metadata": {},
   "source": [
    "Train a LinearSVC on a linearly separable dataset. Then train an SVC and a\n",
    "SGDClassifier on the same dataset. See if you can get them to produce roughly\n",
    "the same model."
   ]
  },
  {
   "cell_type": "code",
   "execution_count": 1,
   "metadata": {},
   "outputs": [],
   "source": [
    "import numpy as np\n",
    "\n",
    "import pandas as pd\n",
    "\n",
    "import matplotlib.pyplot as plt\n",
    "\n",
    "from sklearn.datasets import load_iris\n",
    "from sklearn.preprocessing import StandardScaler\n",
    "from sklearn.svm import LinearSVC\n",
    "from sklearn.linear_model import SGDClassifier\n",
    "from sklearn.pipeline import Pipeline\n",
    "from sklearn.model_selection import train_test_split\n",
    "from sklearn.metrics import accuracy_score\n",
    "\n",
    "import seaborn as sns\n",
    "\n",
    "iris = load_iris()\n",
    "X = np.array(iris.data)\n",
    "y = np.array(iris.target)\n",
    "labels = iris.target_names\n",
    "features = iris.feature_names"
   ]
  },
  {
   "cell_type": "code",
   "execution_count": 2,
   "metadata": {},
   "outputs": [],
   "source": [
    "# Linear Support Vector Machine Classifier pipeline\n",
    "svm_clf = Pipeline([ # pipeline for data to be fed through\n",
    "(\"scaler\", StandardScaler()), # standardize the data\n",
    "(\"linear_svc\", LinearSVC(C=1, loss=\"hinge\", max_iter = 10**6)), # model to use\n",
    "])\n",
    "\n",
    "# Stochastic Gradient Descent Classifier pipeline\n",
    "sgd_clf = Pipeline([\n",
    "    (\"scaler\", StandardScaler()),\n",
    "    (\"sgd_classifier\", SGDClassifier(random_state = 42,))\n",
    "])"
   ]
  },
  {
   "cell_type": "code",
   "execution_count": 3,
   "metadata": {},
   "outputs": [],
   "source": [
    "# make a quick pandas df so that I can read the data much more easily\n",
    "iris_df = pd.DataFrame(X, columns = features, dtype = float)\n",
    "iris_df[\"label\"] = pd.Series(y)"
   ]
  },
  {
   "cell_type": "code",
   "execution_count": 4,
   "metadata": {},
   "outputs": [],
   "source": [
    "X_train, X_valid, y_train, y_valid = train_test_split(X,y, test_size = .2)"
   ]
  },
  {
   "cell_type": "code",
   "execution_count": 5,
   "metadata": {},
   "outputs": [
    {
     "data": {
      "text/html": [
       "<div>\n",
       "<style scoped>\n",
       "    .dataframe tbody tr th:only-of-type {\n",
       "        vertical-align: middle;\n",
       "    }\n",
       "\n",
       "    .dataframe tbody tr th {\n",
       "        vertical-align: top;\n",
       "    }\n",
       "\n",
       "    .dataframe thead th {\n",
       "        text-align: right;\n",
       "    }\n",
       "</style>\n",
       "<table border=\"1\" class=\"dataframe\">\n",
       "  <thead>\n",
       "    <tr style=\"text-align: right;\">\n",
       "      <th></th>\n",
       "      <th>sepal length (cm)</th>\n",
       "      <th>sepal width (cm)</th>\n",
       "      <th>petal length (cm)</th>\n",
       "      <th>petal width (cm)</th>\n",
       "      <th>label</th>\n",
       "    </tr>\n",
       "  </thead>\n",
       "  <tbody>\n",
       "    <tr>\n",
       "      <th>0</th>\n",
       "      <td>5.1</td>\n",
       "      <td>3.5</td>\n",
       "      <td>1.4</td>\n",
       "      <td>0.2</td>\n",
       "      <td>0</td>\n",
       "    </tr>\n",
       "    <tr>\n",
       "      <th>1</th>\n",
       "      <td>4.9</td>\n",
       "      <td>3.0</td>\n",
       "      <td>1.4</td>\n",
       "      <td>0.2</td>\n",
       "      <td>0</td>\n",
       "    </tr>\n",
       "    <tr>\n",
       "      <th>2</th>\n",
       "      <td>4.7</td>\n",
       "      <td>3.2</td>\n",
       "      <td>1.3</td>\n",
       "      <td>0.2</td>\n",
       "      <td>0</td>\n",
       "    </tr>\n",
       "    <tr>\n",
       "      <th>3</th>\n",
       "      <td>4.6</td>\n",
       "      <td>3.1</td>\n",
       "      <td>1.5</td>\n",
       "      <td>0.2</td>\n",
       "      <td>0</td>\n",
       "    </tr>\n",
       "    <tr>\n",
       "      <th>4</th>\n",
       "      <td>5.0</td>\n",
       "      <td>3.6</td>\n",
       "      <td>1.4</td>\n",
       "      <td>0.2</td>\n",
       "      <td>0</td>\n",
       "    </tr>\n",
       "  </tbody>\n",
       "</table>\n",
       "</div>"
      ],
      "text/plain": [
       "   sepal length (cm)  sepal width (cm)  petal length (cm)  petal width (cm)  \\\n",
       "0                5.1               3.5                1.4               0.2   \n",
       "1                4.9               3.0                1.4               0.2   \n",
       "2                4.7               3.2                1.3               0.2   \n",
       "3                4.6               3.1                1.5               0.2   \n",
       "4                5.0               3.6                1.4               0.2   \n",
       "\n",
       "   label  \n",
       "0      0  \n",
       "1      0  \n",
       "2      0  \n",
       "3      0  \n",
       "4      0  "
      ]
     },
     "execution_count": 5,
     "metadata": {},
     "output_type": "execute_result"
    }
   ],
   "source": [
    "iris_df.head()"
   ]
  },
  {
   "cell_type": "code",
   "execution_count": 6,
   "metadata": {},
   "outputs": [
    {
     "name": "stdout",
     "output_type": "stream",
     "text": [
      "Accuracy score of svm_clf is:  0.9\n",
      "Accuracy score of sgd_clf is:  0.9\n"
     ]
    }
   ],
   "source": [
    "svm_clf.fit(X_train, y_train)\n",
    "sgd_clf.fit(X_train, y_train)\n",
    "svm_pred = svm_clf.predict(X_valid)\n",
    "sgd_pred = sgd_clf.predict(X_valid)\n",
    "print(\"Accuracy score of svm_clf is: \", accuracy_score(svm_pred,y_valid))\n",
    "print(\"Accuracy score of sgd_clf is: \", accuracy_score(sgd_pred,y_valid))"
   ]
  },
  {
   "cell_type": "code",
   "execution_count": 7,
   "metadata": {
    "scrolled": false
   },
   "outputs": [
    {
     "data": {
      "text/plain": [
       "LinearSVC(C=30, loss='hinge', max_iter=100000)"
      ]
     },
     "execution_count": 7,
     "metadata": {},
     "output_type": "execute_result"
    }
   ],
   "source": [
    "from sklearn.model_selection import GridSearchCV\n",
    "\n",
    "# let's play around with the C hyperparameter\n",
    "param_grid = [{'C': [1, 3, 10, 30, 50, 70, 90, 100],\n",
    "               'max_iter':[10**5,10**6,10**7]}]\n",
    "# have to create new classifiers and data inputs because we can't pass a pipeline into the gridsearch CV\n",
    "svm_classifier = LinearSVC(loss='hinge')\n",
    "standardize = StandardScaler()\n",
    "X_prepared = standardize.fit_transform(X_train)\n",
    "# setting up grid search\n",
    "grid_search = GridSearchCV(svm_classifier, param_grid, cv=5,\n",
    "                           scoring=\"accuracy\",\n",
    "                           return_train_score=True)\n",
    "# passing X_prepared since we originally trained the model with standardized data\n",
    "grid_search.fit(X_prepared, y_train)\n",
    "\n",
    "grid_search.best_estimator_"
   ]
  },
  {
   "cell_type": "code",
   "execution_count": 8,
   "metadata": {},
   "outputs": [
    {
     "name": "stdout",
     "output_type": "stream",
     "text": [
      "Accuracy score of svm_clf is:  0.9\n",
      "Accuracy score of sgd_clf is:  0.9\n"
     ]
    }
   ],
   "source": [
    "svm_clf_updated = Pipeline([ # pipeline for data to be fed through\n",
    "(\"scaler\", StandardScaler()), # standardize the data\n",
    "(\"linear_svc\", LinearSVC(C=3, loss=\"hinge\", max_iter = 10**5)), # model to use\n",
    "])\n",
    "svm_clf_updated.fit(X_train, y_train)\n",
    "svm_pred_updated = svm_clf_updated.predict(X_valid)\n",
    "print(\"Accuracy score of svm_clf is: \", accuracy_score(svm_pred_updated,y_valid))\n",
    "print(\"Accuracy score of sgd_clf is: \", accuracy_score(sgd_pred,y_valid))"
   ]
  },
  {
   "cell_type": "code",
   "execution_count": 13,
   "metadata": {},
   "outputs": [
    {
     "data": {
      "text/plain": [
       "<matplotlib.axes._subplots.AxesSubplot at 0x125989640>"
      ]
     },
     "execution_count": 13,
     "metadata": {},
     "output_type": "execute_result"
    },
    {
     "data": {
      "image/png": "[encoded data removed]",
      "text/plain": [
       "<Figure size 720x720 with 2 Axes>"
      ]
     },
     "metadata": {
      "needs_background": "light"
     },
     "output_type": "display_data"
    },
    {
     "data": {
      "image/png": "[encoded data removed]",
      "text/plain": [
       "<Figure size 720x720 with 2 Axes>"
      ]
     },
     "metadata": {
      "needs_background": "light"
     },
     "output_type": "display_data"
    }
   ],
   "source": [
    "from sklearn.metrics import confusion_matrix\n",
    "svm_cm = confusion_matrix(svm_pred_updated,y_valid, normalize = \"true\")\n",
    "sgd_cm = confusion_matrix(sgd_pred,y_valid, normalize = \"true\")\n",
    "\n",
    "plt.figure(figsize=(10,10))\n",
    "plt.title('SVM Correlation Matrix', fontsize=16);\n",
    "sns.heatmap(svm_cm, annot=True, cmap = 'Blues',)\n",
    "plt.figure(figsize=(10,10))\n",
    "plt.title('SGD Pearson Correlation Matrix', fontsize=16);\n",
    "plt.subplot(sns.heatmap(sgd_cm, annot=True, cmap = 'Blues',))"
   ]
  }
 ],
 "metadata": {
  "kernelspec": {
   "display_name": "Python 3",
   "language": "python",
   "name": "python3"
  },
  "language_info": {
   "codemirror_mode": {
    "name": "ipython",
    "version": 3
   },
   "file_extension": ".py",
   "mimetype": "text/x-python",
   "name": "python",
   "nbconvert_exporter": "python",
   "pygments_lexer": "ipython3",
   "version": "3.8.3"
  }
 },
 "nbformat": 4,
 "nbformat_minor": 4
}
